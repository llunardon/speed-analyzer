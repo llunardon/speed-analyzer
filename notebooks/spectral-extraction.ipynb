{
 "cells": [
  {
   "cell_type": "markdown",
   "metadata": {},
   "source": [
    "Load the audio samples: set the correct folder in the variable data_path"
   ]
  },
  {
   "cell_type": "code",
   "execution_count": 1,
   "metadata": {},
   "outputs": [],
   "source": [
    "import os\n",
    "\n",
    "import sys\n",
    "sys.path.insert(0, '../src/')\n",
    "import vision\n",
    "import utils\n",
    "\n",
    "from scipy.io import wavfile\n",
    "import librosa\n",
    "import numpy as np\n",
    "import skimage.io\n",
    "import wave\n",
    "import cv2 as cv"
   ]
  },
  {
   "cell_type": "code",
   "execution_count": null,
   "metadata": {},
   "outputs": [],
   "source": [
    "\n",
    "\n",
    "def collect_audio_files(path):\n",
    "    ret_list = []\n",
    "\n",
    "    for (root, dirs, filenames) in os.walk(path):\n",
    "        for f in filenames:\n",
    "            if f.endswith('.wav'):\n",
    "                ret_list.append(os.path.join(root, f))\n",
    "    \n",
    "    return ret_list\n",
    "\n",
    "data_path = \"/home/lorenzo/Music/tape-samples/\"\n",
    "\n",
    "datasets_paths = []\n",
    "wav_dict = {}\n",
    "labels = []\n",
    "\n",
    "for (root, dirs, files) in os.walk(data_path, topdown=True):\n",
    "    if len(files) != 0:\n",
    "        datasets_paths.append(root + \"/\")\n",
    "\n",
    "        label_name = root.split('/')[-1]\n",
    "        labels.append(label_name)\n",
    "\n",
    "print(f\"{len(labels)} datasets collected\")\n",
    "\n",
    "for i in range(0, len(labels)):\n",
    "    wav_dict.update({labels[i] : collect_audio_files(datasets_paths[i])})\n",
    "    print(f\"Collected {len(wav_dict[labels[i]])} files for label {labels[i]}\")"
   ]
  },
  {
   "cell_type": "markdown",
   "metadata": {},
   "source": [
    "- Save the separate channels as their own .wav file\n",
    "- Load each separate channel and compute the spectrogram\n",
    "- Divide the spectrum in half and save the two halfs in separate folders"
   ]
  },
  {
   "cell_type": "code",
   "execution_count": null,
   "metadata": {},
   "outputs": [],
   "source": [
    "separate_channels_path = \"/home/lorenzo/Music/separate-channels-tape-samples/\"\n",
    "utils.create_folder(separate_channels_path) \n",
    "\n",
    "# settings\n",
    "hop_length = 256 # number of samples per time-step in spectrogram\n",
    "n_mels = 128 # number of bins in spectrogram. Height of image\n",
    "time_steps = 512 # number of time-steps. Width of image (if there's sufficient samples)\n",
    "\n",
    "right_half_path = '../right-half/'\n",
    "left_half_path = '../left-half/'\n",
    "\n",
    "utils.create_folder(right_half_path)\n",
    "utils.create_folder(left_half_path)\n",
    "\n",
    "for label in labels:\n",
    "    # create subdirectories\n",
    "    utils.create_folder(separate_channels_path + label + \"/\") \n",
    "\n",
    "    for sample in wav_dict[label]:\n",
    "        fs, data = wavfile.read(sample)\n",
    "\n",
    "        # for each channel:\n",
    "        for i in range(0, data.shape[1]):\n",
    "            # save audio of channel\n",
    "            channel_filename = separate_channels_path + label + \"/\" + sample.split(\"/\")[-1].split(\".wav\")[0] + \"ch\" + str(i) + \".wav\"\n",
    "            wavfile.write(channel_filename, fs, data[:, i])\n",
    "\n",
    "            y, sr = librosa.load(channel_filename, offset=0.0, duration=None)\n",
    "\n",
    "            filename = sample.split('/')[-1][0:-4] + '.png'\n",
    "            img = vision.spectrogram_image(y, sr=sr, out=\"\", hop_length=hop_length, n_mels=n_mels, save=False)\n",
    "\n",
    "            # highlight split region and divide the image in half\n",
    "            thresholded = vision.highlight_split(img)\n",
    "            comparison_img = np.concatenate([img, thresholded])\n",
    "\n",
    "            img_splits = vision.find_splits(comparison_img)\n",
    "\n",
    "            # take the most central split as the middle (not always right, needs to change)\n",
    "            if len(img_splits) != 0:\n",
    "                vision.divide_half(img=comparison_img, filename=filename, middle=img_splits[len(img_splits)//2], left_path=left_half_path, right_path=right_half_path)"
   ]
  },
  {
   "cell_type": "markdown",
   "metadata": {},
   "source": [
    "Extract multiple 128x256 segments from each half, in order to make a dataset which will be later divided in training, validation and test"
   ]
  },
  {
   "cell_type": "code",
   "execution_count": 3,
   "metadata": {},
   "outputs": [
    {
     "name": "stdout",
     "output_type": "stream",
     "text": [
      "Substituted folder ../dataset/c/\n",
      "Substituted folder ../dataset/w/\n"
     ]
    }
   ],
   "source": [
    "left_segments = '../dataset/c/'\n",
    "right_segments = '../dataset/w/'\n",
    "\n",
    "vision.compute_segments([left_half_path, right_half_path], [left_segments, right_segments], step=64, window_size=256, overwrite=True, multiple=True, offset=64)"
   ]
  },
  {
   "cell_type": "markdown",
   "metadata": {},
   "source": [
    "Delete temporary directories"
   ]
  },
  {
   "cell_type": "code",
   "execution_count": 3,
   "metadata": {},
   "outputs": [],
   "source": [
    "os.rmdir(left_half_path)\n",
    "os.rmdir(right_half_path)\n",
    "os.rmdir(separate_channels_path)"
   ]
  },
  {
   "cell_type": "code",
   "execution_count": null,
   "metadata": {},
   "outputs": [],
   "source": []
  }
 ],
 "metadata": {
  "kernelspec": {
   "display_name": "Python 3",
   "language": "python",
   "name": "python3"
  },
  "language_info": {
   "codemirror_mode": {
    "name": "ipython",
    "version": 3
   },
   "file_extension": ".py",
   "mimetype": "text/x-python",
   "name": "python",
   "nbconvert_exporter": "python",
   "pygments_lexer": "ipython3",
   "version": "3.10.6"
  },
  "orig_nbformat": 4
 },
 "nbformat": 4,
 "nbformat_minor": 2
}
