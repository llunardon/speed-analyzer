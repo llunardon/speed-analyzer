{
  "cells": [
    {
      "cell_type": "markdown",
      "metadata": {
        "id": "11fasVaeUxfO"
      },
      "source": [
        "# Test the binary model using the Mel scale\n",
        "\n",
        "The test ouputs the fraction of the test samples which have been correctly classified"
      ]
    },
    {
      "cell_type": "code",
      "execution_count": 5,
      "metadata": {
        "colab": {
          "base_uri": "https://localhost:8080/"
        },
        "id": "rNnfdowlTKXR",
        "outputId": "b64ef19f-24fc-4961-b8de-6a9382ed51a2"
      },
      "outputs": [
        {
          "name": "stdout",
          "output_type": "stream",
          "text": [
            "Found 7752 images belonging to 2 classes.\n",
            "7752/7752 [==============================] - 14s 2ms/step\n",
            "The model predicted accurately 82.7% of the samples\n",
            "              precision    recall  f1-score   support\n",
            "\n",
            "           0       0.70      0.93      0.80      2847\n",
            "           1       0.95      0.77      0.85      4905\n",
            "\n",
            "    accuracy                           0.83      7752\n",
            "   macro avg       0.82      0.85      0.82      7752\n",
            "weighted avg       0.86      0.83      0.83      7752\n",
            "\n"
          ]
        }
      ],
      "source": [
        "from keras.models import load_model\n",
        "import numpy as np\n",
        "from tensorflow.keras.preprocessing.image import ImageDataGenerator\n",
        "data_generator = ImageDataGenerator(preprocessing_function=None)\n",
        "from sklearn.metrics import classification_report\n",
        "\n",
        "# model = my_model\n",
        "model = load_model(\"../models/model-binary-mel\")\n",
        "\n",
        "# generate data for test set of images\n",
        "test_generator = data_generator.flow_from_directory(\n",
        "        \"/home/lorenzo/Pictures/test-dataset/binary-seg/\",\n",
        "        target_size=(128, 256),\n",
        "        color_mode='grayscale',\n",
        "        batch_size=1,\n",
        "        class_mode='categorical',\n",
        "        shuffle=False)\n",
        "\n",
        "filenames=test_generator.filenames\n",
        "n_test = len(filenames)\n",
        "\n",
        "# obtain predicted activation values for the last dense layer\n",
        "test_generator.reset()\n",
        "pred=model.predict(test_generator, verbose=1, steps=n_test)\n",
        "\n",
        "# determine the maximum activation value for each sample\n",
        "predicted_class_indices=np.argmax(pred,axis=1)\n",
        "actual_labels=test_generator.labels\n",
        "class_labels = list(test_generator.class_indices.keys())\n",
        "\n",
        "# determine the test set accuracy\n",
        "match=[]\n",
        "for i in range(0, n_test):\n",
        "    match.append(predicted_class_indices[i]==actual_labels[i])\n",
        "\n",
        "acc = str(match.count(True) / n_test * 100)[0:4]\n",
        "print(f\"The model predicted accurately {acc}% of the samples\")\n",
        "print(classification_report(actual_labels, predicted_class_indices))"
      ]
    },
    {
      "cell_type": "markdown",
      "metadata": {},
      "source": [
        "# Test the multi-class model using the Mel scale"
      ]
    },
    {
      "cell_type": "code",
      "execution_count": 3,
      "metadata": {},
      "outputs": [
        {
          "name": "stdout",
          "output_type": "stream",
          "text": [
            "Found 4905 images belonging to 4 classes.\n",
            "4905/4905 [==============================] - 8s 2ms/step\n",
            "The model predicted accurately 75.1% of the samples\n",
            "              precision    recall  f1-score   support\n",
            "\n",
            "           0       0.82      0.73      0.77      2105\n",
            "           1       0.94      0.63      0.76      1540\n",
            "           2       0.55      1.00      0.71       759\n",
            "           3       0.67      0.83      0.74       501\n",
            "\n",
            "    accuracy                           0.75      4905\n",
            "   macro avg       0.75      0.80      0.74      4905\n",
            "weighted avg       0.80      0.75      0.75      4905\n",
            "\n"
          ]
        }
      ],
      "source": [
        "from keras.models import load_model\n",
        "import numpy as np\n",
        "from tensorflow.keras.preprocessing.image import ImageDataGenerator\n",
        "data_generator = ImageDataGenerator(preprocessing_function=None)\n",
        "from sklearn.metrics import classification_report\n",
        "\n",
        "model = load_model(\"../models/model-4c-mel\")\n",
        "\n",
        "# generate data for test set of images\n",
        "test_generator = data_generator.flow_from_directory(\n",
        "        \"/home/lorenzo/Pictures/test-dataset/4c-seg/\",\n",
        "        target_size=(128, 256),\n",
        "        color_mode='grayscale',\n",
        "        batch_size=1,\n",
        "        class_mode='categorical',\n",
        "        shuffle=False)\n",
        "\n",
        "filenames=test_generator.filenames\n",
        "n_test = len(filenames)\n",
        "\n",
        "# obtain predicted activation values for the last dense layer\n",
        "test_generator.reset()\n",
        "pred=model.predict(test_generator, verbose=1, steps=n_test)\n",
        "\n",
        "# determine the maximum activation value for each sample\n",
        "predicted_class_indices=np.argmax(pred,axis=1)\n",
        "actual_labels=test_generator.labels\n",
        "class_labels = list(test_generator.class_indices.keys())\n",
        "\n",
        "# determine the test set accuracy\n",
        "match=[]\n",
        "for i in range(0, n_test):\n",
        "    match.append(predicted_class_indices[i]==actual_labels[i])\n",
        "\n",
        "acc = str(match.count(True) / n_test * 100)[0:4]\n",
        "print(f\"The model predicted accurately {acc}% of the samples\")\n",
        "print(classification_report(actual_labels, predicted_class_indices))"
      ]
    },
    {
      "cell_type": "markdown",
      "metadata": {
        "id": "E83Bpfdz2taB"
      },
      "source": [
        "# For the model with four classes, plot the confusion matrix"
      ]
    },
    {
      "cell_type": "code",
      "execution_count": 4,
      "metadata": {
        "colab": {
          "base_uri": "https://localhost:8080/",
          "height": 535
        },
        "id": "hwvaAmyYcenM",
        "outputId": "3ead26b3-aa8d-4a96-9895-7e3af5c9345b"
      },
      "outputs": [
        {
          "name": "stderr",
          "output_type": "stream",
          "text": [
            "/tmp/ipykernel_27111/959668215.py:15: UserWarning: FixedFormatter should only be used together with FixedLocator\n",
            "  ax.xaxis.set_ticklabels(['', 'double', 'half', 'quad', 'quarter'])\n",
            "/tmp/ipykernel_27111/959668215.py:16: UserWarning: FixedFormatter should only be used together with FixedLocator\n",
            "  ax.yaxis.set_ticklabels(['', 'double', 'half', 'quad', 'quarter'])\n"
          ]
        },
        {
          "data": {
            "image/png": "[encoded data removed]",
            "text/plain": [
              "<Figure size 450x450 with 1 Axes>"
            ]
          },
          "metadata": {},
          "output_type": "display_data"
        }
      ],
      "source": [
        "from sklearn.metrics import confusion_matrix\n",
        "import matplotlib.pyplot as plt\n",
        "\n",
        "conf_matrix = confusion_matrix(y_true=actual_labels, y_pred=predicted_class_indices)\n",
        "\n",
        "fig, ax = plt.subplots(figsize=(4.5, 4.5))\n",
        "ax.matshow(conf_matrix, cmap=plt.cm.Blues, alpha=0.7)\n",
        "\n",
        "for i in range(conf_matrix.shape[0]):\n",
        "    for j in range(conf_matrix.shape[1]):\n",
        "        ax.text(x=j, y=i,s=conf_matrix[i, j], va='center', ha='center', size='large')\n",
        "\n",
        "plt.xlabel('Predicted labels', fontsize=14)\n",
        "plt.ylabel('Actual labels', fontsize=14)\n",
        "ax.xaxis.set_ticklabels(['', 'double', 'half', 'quad', 'quarter'])\n",
        "ax.yaxis.set_ticklabels(['', 'double', 'half', 'quad', 'quarter'])\n",
        "plt.title('Confusion Matrix', fontsize=14)\n",
        "plt.savefig(\"confusion_matrix.png\", dpi=300)\n",
        "plt.show()"
      ]
    },
    {
      "cell_type": "code",
      "execution_count": null,
      "metadata": {
        "id": "ktCM5GhFY_ut"
      },
      "outputs": [],
      "source": []
    }
  ],
  "metadata": {
    "accelerator": "GPU",
    "colab": {
      "gpuType": "T4",
      "provenance": []
    },
    "kernelspec": {
      "display_name": "Python 3",
      "name": "python3"
    },
    "language_info": {
      "codemirror_mode": {
        "name": "ipython",
        "version": 3
      },
      "file_extension": ".py",
      "mimetype": "text/x-python",
      "name": "python",
      "nbconvert_exporter": "python",
      "pygments_lexer": "ipython3",
      "version": "3.10.6"
    }
  },
  "nbformat": 4,
  "nbformat_minor": 0
}
