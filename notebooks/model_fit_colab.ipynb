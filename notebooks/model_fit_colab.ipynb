{
  "nbformat": 4,
  "nbformat_minor": 0,
  "metadata": {
    "colab": {
      "provenance": [],
      "gpuType": "T4"
    },
    "kernelspec": {
      "name": "python3",
      "display_name": "Python 3"
    },
    "language_info": {
      "name": "python"
    },
    "accelerator": "GPU"
  },
  "cells": [
    {
      "cell_type": "markdown",
      "source": [
        "Import files from Google Drive"
      ],
      "metadata": {
        "id": "-CadxVov1wn5"
      }
    },
    {
      "cell_type": "code",
      "source": [
        "from google.colab import drive\n",
        "drive.mount(\"/content/drive\")"
      ],
      "metadata": {
        "colab": {
          "base_uri": "https://localhost:8080/"
        },
        "id": "7S8WJWTL9yrn",
        "outputId": "62c78696-7f4c-49fe-fae0-9ab818c753cd"
      },
      "execution_count": 1,
      "outputs": [
        {
          "output_type": "stream",
          "name": "stdout",
          "text": [
            "Mounted at /content/drive\n"
          ]
        }
      ]
    },
    {
      "cell_type": "markdown",
      "source": [
        "Unzip archived dataset"
      ],
      "metadata": {
        "id": "O0Z-X-1L1z0i"
      }
    },
    {
      "cell_type": "code",
      "source": [
        "!tar -xzf drive/MyDrive/dataset-binary-complete-separatechannels.tar.gz"
      ],
      "metadata": {
        "id": "r8lN159LMQCp"
      },
      "execution_count": 2,
      "outputs": []
    },
    {
      "cell_type": "markdown",
      "source": [
        "Functions to create and delete folders and to divide the dataset in training, validation and testing sets"
      ],
      "metadata": {
        "id": "GIlPuctN18-P"
      }
    },
    {
      "cell_type": "code",
      "source": [
        "import os\n",
        "import numpy as np\n",
        "import shutil\n",
        "import math\n",
        "import random\n",
        "\n",
        "def delete_folder(path):\n",
        "    for filename in os.listdir(path):\n",
        "        file_path = os.path.join(path, filename)\n",
        "        try:\n",
        "            if os.path.isfile(file_path) or os.path.islink(file_path):\n",
        "                os.unlink(file_path)\n",
        "            elif os.path.isdir(file_path):\n",
        "                shutil.rmtree(file_path)\n",
        "        except Exception as e:\n",
        "            print('Failed to delete %s. Reason: %s' % (file_path, e))\n",
        "\n",
        "def create_folder(path, overwrite=True):\n",
        "    if not os.path.exists(path):\n",
        "        os.makedirs(path)\n",
        "        print(f\"Created folder {path}\")\n",
        "    else:\n",
        "        if overwrite == False:\n",
        "            print(f\"Couldn't substitute folder because overwrite is set to False\")\n",
        "        else:\n",
        "            delete_folder(path)\n",
        "            print(f\"Substituted folder {path}\")\n",
        "\n",
        "\"\"\"\n",
        "    inputs: in_paths  ---> list of input paths, where every path corresponds to a different label\n",
        "            out_paths ---> names of training, validation and test folders, in this order\n",
        "              ratios  ---> what fraction of the dataset goes into training, validation and testing\n",
        "              seed    ---> seed used for randomization\n",
        "\"\"\"\n",
        "def create_dataset(in_paths, labels, out_paths, ratios, seed):\n",
        "    if len(ratios) != 3 or len(out_paths) != 3:\n",
        "        print(\"Output configuration is wrong\")\n",
        "        return\n",
        "\n",
        "    if np.sum(ratios) > 1.0:\n",
        "        print(\"Sum of ratios must be less than 1\")\n",
        "        return\n",
        "\n",
        "    for out_path in out_paths:\n",
        "        create_folder(out_path)\n",
        "    for label_index, in_path in enumerate(in_paths):\n",
        "        # label = in_path.split('/')[-2]\n",
        "        label = labels[label_index]\n",
        "\n",
        "        for (root, dirs, files) in os.walk(in_path, topdown=True):\n",
        "            # number of elements in each split\n",
        "            n_train = math.floor(ratios[0] * len(files))\n",
        "            n_valid = math.floor(ratios[1] * len(files))\n",
        "            n_test = len(files) - (n_train + n_valid)\n",
        "\n",
        "            train_files = []\n",
        "            valid_files = []\n",
        "            test_files = []\n",
        "\n",
        "            # create list of random indexes and shuffle it\n",
        "            indexes = list(range(0, len(files)))\n",
        "            random.Random(seed).shuffle(indexes)\n",
        "\n",
        "            for j in range(0, len(files)):\n",
        "                index = indexes[j]\n",
        "                if j < n_train:\n",
        "                    train_files.append(files[index])\n",
        "                elif n_train <= j < n_train + n_valid:\n",
        "                    valid_files.append(files[index])\n",
        "                else:\n",
        "                    test_files.append(files[index])\n",
        "\n",
        "            for i, out_path in enumerate(out_paths):\n",
        "                create_folder(out_path + label + \"/\")\n",
        "\n",
        "                if i == 0:\n",
        "                    for filename in train_files:\n",
        "                        shutil.copyfile(in_path + filename, out_path + label +  \"/\" + filename)\n",
        "                elif i == 1:\n",
        "                    for filename in valid_files:\n",
        "                        shutil.copyfile(in_path + filename, out_path + label +  \"/\" + filename)\n",
        "                else:\n",
        "                    for filename in test_files:\n",
        "                        shutil.copyfile(in_path + filename, out_path + label +  \"/\" + filename)"
      ],
      "metadata": {
        "id": "-pxXcNhrM_vw"
      },
      "execution_count": 5,
      "outputs": []
    },
    {
      "cell_type": "markdown",
      "source": [
        "# Create the binary dataset split\n",
        "\n",
        "For the one with four classes, see next cell"
      ],
      "metadata": {
        "id": "Sq-AMhRR2FGG"
      }
    },
    {
      "cell_type": "code",
      "source": [
        "correct_segments = \"/content/dataset/c/\"\n",
        "wrong_segments = \"/content/dataset/w/\"\n",
        "labels = ['c', 'w']\n",
        "\n",
        "in_paths = [correct_segments, wrong_segments]\n",
        "\n",
        "train_path = \"/content/training-set/\"\n",
        "validation_path = \"/content/validation-set/\"\n",
        "test_path = \"/content/test-set/\"\n",
        "\n",
        "create_dataset(in_paths=in_paths, labels=labels, out_paths=[train_path, validation_path, test_path], ratios=[0.7, 0.2, 0.1], seed=2023)"
      ],
      "metadata": {
        "colab": {
          "base_uri": "https://localhost:8080/"
        },
        "id": "UbKmmP2oNRDA",
        "outputId": "e9653757-22a8-491e-c474-f17670efb30b"
      },
      "execution_count": 12,
      "outputs": [
        {
          "output_type": "stream",
          "name": "stdout",
          "text": [
            "Substituted folder /content/training-set/\n",
            "Substituted folder /content/validation-set/\n",
            "Substituted folder /content/test-set/\n",
            "Created folder /content/training-set/c/\n",
            "Created folder /content/validation-set/c/\n",
            "Created folder /content/test-set/c/\n",
            "Created folder /content/training-set/w/\n",
            "Created folder /content/validation-set/w/\n",
            "Created folder /content/test-set/w/\n"
          ]
        }
      ]
    },
    {
      "cell_type": "markdown",
      "source": [
        "# Create the dataset with four classes"
      ],
      "metadata": {
        "id": "dOKD6Exn2Iw8"
      }
    },
    {
      "cell_type": "code",
      "source": [
        "wrong_segments = \"/content/dataset/w/\"\n",
        "new_dataset_path = \"/content/dataset-4classes/\"\n",
        "\n",
        "labels = ['double', 'half', 'quadruple', 'quarter']\n",
        "\n",
        "create_folder(new_dataset_path, overwrite=True)\n",
        "\n",
        "in_paths = []\n",
        "\n",
        "for label in labels:\n",
        "    create_folder(new_dataset_path + label + \"/\")\n",
        "    in_paths.append(new_dataset_path + label + \"/\")\n",
        "\n",
        "# add spectrograms to subdirectories depending on the name of the file\n",
        "for (root, dirs, files) in os.walk(wrong_segments, topdown=True):\n",
        "    for filename in files:\n",
        "        if \"3,75ips_to15ips\" in filename:\n",
        "            shutil.copyfile(wrong_segments + filename, new_dataset_path + 'quadruple' +  \"/\" + filename)\n",
        "        elif \"15ips_to3,75ips\" in filename:\n",
        "            shutil.copyfile(wrong_segments + filename, new_dataset_path + 'quarter' +  \"/\" + filename)\n",
        "        elif \"3,75ips_to7,5ips\" in filename:\n",
        "            shutil.copyfile(wrong_segments + filename, new_dataset_path + 'double' +  \"/\" + filename)\n",
        "        elif \"7,5ips_to15ips\" in filename:\n",
        "            shutil.copyfile(wrong_segments + filename, new_dataset_path + 'double' +  \"/\" + filename)\n",
        "        elif \"15ips_to7,5ips\" in filename:\n",
        "            shutil.copyfile(wrong_segments + filename, new_dataset_path + 'half' +  \"/\" + filename)\n",
        "        elif \"7,5ips_to3,75ips\" in filename:\n",
        "            shutil.copyfile(wrong_segments + filename, new_dataset_path + 'half' +  \"/\" + filename)\n",
        "\n",
        "\n",
        "train_path = \"/content/training-set/\"\n",
        "validation_path = \"/content/validation-set/\"\n",
        "test_path = \"/content/test-set/\"\n",
        "\n",
        "create_dataset(in_paths=in_paths, labels=labels, out_paths=[train_path, validation_path, test_path], ratios=[0.7, 0.2, 0.1], seed=1998)"
      ],
      "metadata": {
        "colab": {
          "base_uri": "https://localhost:8080/"
        },
        "id": "Ok7hULLTZJTP",
        "outputId": "5ddd3333-47ee-40f7-8e75-8c4774d6f423"
      },
      "execution_count": 22,
      "outputs": [
        {
          "output_type": "stream",
          "name": "stdout",
          "text": [
            "Substituted folder /content/dataset-4classes/\n",
            "Created folder /content/dataset-4classes/double/\n",
            "Created folder /content/dataset-4classes/half/\n",
            "Created folder /content/dataset-4classes/quadruple/\n",
            "Created folder /content/dataset-4classes/quarter/\n",
            "Substituted folder /content/training-set/\n",
            "Substituted folder /content/validation-set/\n",
            "Substituted folder /content/test-set/\n",
            "Created folder /content/training-set/double/\n",
            "Created folder /content/validation-set/double/\n",
            "Created folder /content/test-set/double/\n",
            "Created folder /content/training-set/half/\n",
            "Created folder /content/validation-set/half/\n",
            "Created folder /content/test-set/half/\n",
            "Created folder /content/training-set/quadruple/\n",
            "Created folder /content/validation-set/quadruple/\n",
            "Created folder /content/test-set/quadruple/\n",
            "Created folder /content/training-set/quarter/\n",
            "Created folder /content/validation-set/quarter/\n",
            "Created folder /content/test-set/quarter/\n"
          ]
        }
      ]
    },
    {
      "cell_type": "markdown",
      "source": [
        "# Define model structure\n",
        "For the binary model select last layer with sigmoid activation. Otherwise, select the softmax one"
      ],
      "metadata": {
        "id": "sXhPa1UR2Qwg"
      }
    },
    {
      "cell_type": "code",
      "source": [
        "from keras.layers import Dense, Conv2D, MaxPooling2D, GlobalAveragePooling2D, Dropout, AveragePooling2D\n",
        "\n",
        "from keras import models\n",
        "\n",
        "my_model = models.Sequential()\n",
        "my_model.add(Conv2D(8, (7, 7), activation='relu', padding='same', input_shape=(128, 256, 1)))\n",
        "my_model.add(MaxPooling2D((5, 5), padding='same'))\n",
        "\n",
        "my_model.add(Conv2D(16, (7, 7), activation='relu', padding='same'))\n",
        "my_model.add(MaxPooling2D((5, 5), padding='same'))\n",
        "\n",
        "my_model.add(Conv2D(32, (7, 7), activation='relu', padding='same'))\n",
        "my_model.add(MaxPooling2D((5, 5), padding='same'))\n",
        "\n",
        "my_model.add(GlobalAveragePooling2D())\n",
        "\n",
        "my_model.add(Dense(32, activation='relu'))\n",
        "my_model.add(Dropout(0.2))\n",
        "\n",
        "my_model.add(Dense(4, activation='softmax'))\n",
        "# my_model.add(Dense(2, activation='sigmoid'))\n",
        "\n",
        "my_model.summary()"
      ],
      "metadata": {
        "id": "QmJCV6EzrsW3",
        "colab": {
          "base_uri": "https://localhost:8080/"
        },
        "outputId": "8210cc75-b8ba-4bb8-9e02-6557896a4803"
      },
      "execution_count": 23,
      "outputs": [
        {
          "output_type": "stream",
          "name": "stdout",
          "text": [
            "Model: \"sequential_2\"\n",
            "_________________________________________________________________\n",
            " Layer (type)                Output Shape              Param #   \n",
            "=================================================================\n",
            " conv2d_6 (Conv2D)           (None, 128, 256, 8)       400       \n",
            "                                                                 \n",
            " max_pooling2d_6 (MaxPoolin  (None, 26, 52, 8)         0         \n",
            " g2D)                                                            \n",
            "                                                                 \n",
            " conv2d_7 (Conv2D)           (None, 26, 52, 16)        6288      \n",
            "                                                                 \n",
            " max_pooling2d_7 (MaxPoolin  (None, 6, 11, 16)         0         \n",
            " g2D)                                                            \n",
            "                                                                 \n",
            " conv2d_8 (Conv2D)           (None, 6, 11, 32)         25120     \n",
            "                                                                 \n",
            " max_pooling2d_8 (MaxPoolin  (None, 2, 3, 32)          0         \n",
            " g2D)                                                            \n",
            "                                                                 \n",
            " global_average_pooling2d_2  (None, 32)                0         \n",
            "  (GlobalAveragePooling2D)                                       \n",
            "                                                                 \n",
            " dense_4 (Dense)             (None, 32)                1056      \n",
            "                                                                 \n",
            " dropout_2 (Dropout)         (None, 32)                0         \n",
            "                                                                 \n",
            " dense_5 (Dense)             (None, 4)                 132       \n",
            "                                                                 \n",
            "=================================================================\n",
            "Total params: 32996 (128.89 KB)\n",
            "Trainable params: 32996 (128.89 KB)\n",
            "Non-trainable params: 0 (0.00 Byte)\n",
            "_________________________________________________________________\n"
          ]
        }
      ]
    },
    {
      "cell_type": "markdown",
      "source": [
        "# Compile the model\n",
        "For the binary model, select the binary_crossentropy loss function, otherwise the categorical_crossentropy"
      ],
      "metadata": {
        "id": "yDov-8e02guM"
      }
    },
    {
      "cell_type": "code",
      "source": [
        "from tensorflow.python.keras.callbacks import EarlyStopping, ModelCheckpoint\n",
        "\n",
        "es = EarlyStopping(monitor='val_loss', mode='min', verbose=1, patience=30)\n",
        "\n",
        "mc = ModelCheckpoint('model/', monitor='val_accuracy', mode='max', verbose=1, save_best_only=True)\n",
        "\n",
        "cb_list = [es, mc]\n",
        "\n",
        "my_model.compile(optimizer='adam', loss='categorical_crossentropy', metrics=['accuracy'])\n",
        "# my_model.compile(optimizer='adam', loss='binary_crossentropy', metrics=['accuracy'])"
      ],
      "metadata": {
        "id": "q9Of6CzJumzv"
      },
      "execution_count": 24,
      "outputs": []
    },
    {
      "cell_type": "markdown",
      "source": [
        "# Training  "
      ],
      "metadata": {
        "id": "KnOWBqJdU-Su"
      }
    },
    {
      "cell_type": "code",
      "source": [
        "import cv2\n",
        "import numpy as np\n",
        "\n",
        "from tensorflow.keras.preprocessing.image import ImageDataGenerator\n",
        "\n",
        "batch_size = 20\n",
        "\n",
        "data_generator = ImageDataGenerator(preprocessing_function=None)\n",
        "\n",
        "train_generator = data_generator.flow_from_directory('/content/training-set',\n",
        "                                                     target_size = (128, 256),\n",
        "                                                     batch_size=batch_size,\n",
        "                                                     color_mode='grayscale',\n",
        "                                                     class_mode='categorical')\n",
        "\n",
        "validation_generator = data_generator.flow_from_directory('/content/validation-set',\n",
        "                                                     target_size = (128, 256),\n",
        "                                                     color_mode='grayscale',\n",
        "                                                     batch_size=batch_size,\n",
        "                                                     class_mode='categorical')\n",
        "\n",
        "n_train = len(train_generator.filenames)\n",
        "n_valid = len(validation_generator.filenames)\n",
        "\n",
        "history = my_model.fit(\n",
        "    train_generator,\n",
        "    epochs=30,\n",
        "    steps_per_epoch = n_train//batch_size,\n",
        "    validation_data=validation_generator,\n",
        "    validation_steps=n_valid//batch_size,\n",
        "    callbacks=cb_list\n",
        ")\n",
        "\n"
      ],
      "metadata": {
        "id": "sGpfT21LveHk",
        "colab": {
          "base_uri": "https://localhost:8080/"
        },
        "outputId": "ac355d43-0d15-4d0d-97fc-8ac883ca0c4d"
      },
      "execution_count": 25,
      "outputs": [
        {
          "output_type": "stream",
          "name": "stdout",
          "text": [
            "Found 1850 images belonging to 4 classes.\n",
            "Found 527 images belonging to 4 classes.\n",
            "Epoch 1/30\n",
            "88/92 [===========================>..] - ETA: 0s - loss: 2.8861 - accuracy: 0.3177\n",
            "Epoch 00001: val_accuracy improved from -inf to 0.52500, saving model to model/\n",
            "92/92 [==============================] - 5s 41ms/step - loss: 2.8118 - accuracy: 0.3268 - val_loss: 1.2160 - val_accuracy: 0.5250\n",
            "Epoch 2/30\n",
            "91/92 [============================>.] - ETA: 0s - loss: 1.0809 - accuracy: 0.5315\n",
            "Epoch 00002: val_accuracy improved from 0.52500 to 0.73077, saving model to model/\n",
            "92/92 [==============================] - 3s 37ms/step - loss: 1.0794 - accuracy: 0.5322 - val_loss: 0.7207 - val_accuracy: 0.7308\n",
            "Epoch 3/30\n",
            "91/92 [============================>.] - ETA: 0s - loss: 0.8192 - accuracy: 0.6597\n",
            "Epoch 00003: val_accuracy improved from 0.73077 to 0.77308, saving model to model/\n",
            "92/92 [==============================] - 5s 52ms/step - loss: 0.8153 - accuracy: 0.6612 - val_loss: 0.5924 - val_accuracy: 0.7731\n",
            "Epoch 4/30\n",
            "91/92 [============================>.] - ETA: 0s - loss: 0.6674 - accuracy: 0.7110\n",
            "Epoch 00004: val_accuracy improved from 0.77308 to 0.80577, saving model to model/\n",
            "92/92 [==============================] - 3s 36ms/step - loss: 0.6673 - accuracy: 0.7109 - val_loss: 0.4899 - val_accuracy: 0.8058\n",
            "Epoch 5/30\n",
            "90/92 [============================>.] - ETA: 0s - loss: 0.5776 - accuracy: 0.7654\n",
            "Epoch 00005: val_accuracy improved from 0.80577 to 0.83269, saving model to model/\n",
            "92/92 [==============================] - 4s 39ms/step - loss: 0.5750 - accuracy: 0.7661 - val_loss: 0.3681 - val_accuracy: 0.8327\n",
            "Epoch 6/30\n",
            "91/92 [============================>.] - ETA: 0s - loss: 0.4902 - accuracy: 0.8006\n",
            "Epoch 00006: val_accuracy improved from 0.83269 to 0.83462, saving model to model/\n",
            "92/92 [==============================] - 5s 54ms/step - loss: 0.4883 - accuracy: 0.8005 - val_loss: 0.4128 - val_accuracy: 0.8346\n",
            "Epoch 7/30\n",
            "90/92 [============================>.] - ETA: 0s - loss: 0.4504 - accuracy: 0.8173\n",
            "Epoch 00007: val_accuracy improved from 0.83462 to 0.84615, saving model to model/\n",
            "92/92 [==============================] - 3s 35ms/step - loss: 0.4496 - accuracy: 0.8169 - val_loss: 0.3253 - val_accuracy: 0.8462\n",
            "Epoch 8/30\n",
            "91/92 [============================>.] - ETA: 0s - loss: 0.4077 - accuracy: 0.8265\n",
            "Epoch 00008: val_accuracy improved from 0.84615 to 0.85577, saving model to model/\n",
            "92/92 [==============================] - 3s 35ms/step - loss: 0.4069 - accuracy: 0.8262 - val_loss: 0.3253 - val_accuracy: 0.8558\n",
            "Epoch 9/30\n",
            "91/92 [============================>.] - ETA: 0s - loss: 0.3891 - accuracy: 0.8436\n",
            "Epoch 00009: val_accuracy improved from 0.85577 to 0.88846, saving model to model/\n",
            "92/92 [==============================] - 4s 41ms/step - loss: 0.3877 - accuracy: 0.8443 - val_loss: 0.2660 - val_accuracy: 0.8885\n",
            "Epoch 10/30\n",
            "92/92 [==============================] - ETA: 0s - loss: 0.3344 - accuracy: 0.8541\n",
            "Epoch 00010: val_accuracy did not improve from 0.88846\n",
            "92/92 [==============================] - 4s 39ms/step - loss: 0.3344 - accuracy: 0.8541 - val_loss: 0.2682 - val_accuracy: 0.8885\n",
            "Epoch 11/30\n",
            "92/92 [==============================] - ETA: 0s - loss: 0.3251 - accuracy: 0.8781\n",
            "Epoch 00011: val_accuracy improved from 0.88846 to 0.90962, saving model to model/\n",
            "92/92 [==============================] - 3s 37ms/step - loss: 0.3251 - accuracy: 0.8781 - val_loss: 0.2562 - val_accuracy: 0.9096\n",
            "Epoch 12/30\n",
            "90/92 [============================>.] - ETA: 0s - loss: 0.2842 - accuracy: 0.8760\n",
            "Epoch 00012: val_accuracy did not improve from 0.90962\n",
            "92/92 [==============================] - 3s 28ms/step - loss: 0.2844 - accuracy: 0.8765 - val_loss: 0.2163 - val_accuracy: 0.9019\n",
            "Epoch 13/30\n",
            "92/92 [==============================] - ETA: 0s - loss: 0.2861 - accuracy: 0.8770\n",
            "Epoch 00013: val_accuracy did not improve from 0.90962\n",
            "92/92 [==============================] - 3s 28ms/step - loss: 0.2861 - accuracy: 0.8770 - val_loss: 0.2552 - val_accuracy: 0.8731\n",
            "Epoch 14/30\n",
            "92/92 [==============================] - ETA: 0s - loss: 0.2665 - accuracy: 0.8945\n",
            "Epoch 00014: val_accuracy did not improve from 0.90962\n",
            "92/92 [==============================] - 3s 35ms/step - loss: 0.2665 - accuracy: 0.8945 - val_loss: 0.2080 - val_accuracy: 0.9077\n",
            "Epoch 15/30\n",
            "91/92 [============================>.] - ETA: 0s - loss: 0.2190 - accuracy: 0.9133\n",
            "Epoch 00015: val_accuracy did not improve from 0.90962\n",
            "92/92 [==============================] - 3s 35ms/step - loss: 0.2175 - accuracy: 0.9137 - val_loss: 0.2235 - val_accuracy: 0.8962\n",
            "Epoch 16/30\n",
            "91/92 [============================>.] - ETA: 0s - loss: 0.2159 - accuracy: 0.9144\n",
            "Epoch 00016: val_accuracy did not improve from 0.90962\n",
            "92/92 [==============================] - 2s 26ms/step - loss: 0.2149 - accuracy: 0.9148 - val_loss: 0.1996 - val_accuracy: 0.9000\n",
            "Epoch 17/30\n",
            "92/92 [==============================] - ETA: 0s - loss: 0.2134 - accuracy: 0.9175\n",
            "Epoch 00017: val_accuracy improved from 0.90962 to 0.94615, saving model to model/\n",
            "92/92 [==============================] - 3s 37ms/step - loss: 0.2134 - accuracy: 0.9175 - val_loss: 0.1366 - val_accuracy: 0.9462\n",
            "Epoch 18/30\n",
            "92/92 [==============================] - ETA: 0s - loss: 0.1552 - accuracy: 0.9355\n",
            "Epoch 00018: val_accuracy improved from 0.94615 to 0.95962, saving model to model/\n",
            "92/92 [==============================] - 4s 47ms/step - loss: 0.1552 - accuracy: 0.9355 - val_loss: 0.1025 - val_accuracy: 0.9596\n",
            "Epoch 19/30\n",
            "91/92 [============================>.] - ETA: 0s - loss: 0.1979 - accuracy: 0.9238\n",
            "Epoch 00019: val_accuracy did not improve from 0.95962\n",
            "92/92 [==============================] - 3s 31ms/step - loss: 0.1988 - accuracy: 0.9235 - val_loss: 0.1886 - val_accuracy: 0.9250\n",
            "Epoch 20/30\n",
            "90/92 [============================>.] - ETA: 0s - loss: 0.1963 - accuracy: 0.9173\n",
            "Epoch 00020: val_accuracy did not improve from 0.95962\n",
            "92/92 [==============================] - 3s 27ms/step - loss: 0.1971 - accuracy: 0.9169 - val_loss: 0.1676 - val_accuracy: 0.9346\n",
            "Epoch 21/30\n",
            "90/92 [============================>.] - ETA: 0s - loss: 0.1411 - accuracy: 0.9480\n",
            "Epoch 00021: val_accuracy did not improve from 0.95962\n",
            "92/92 [==============================] - 2s 26ms/step - loss: 0.1412 - accuracy: 0.9470 - val_loss: 0.1940 - val_accuracy: 0.9462\n",
            "Epoch 22/30\n",
            "90/92 [============================>.] - ETA: 0s - loss: 0.1081 - accuracy: 0.9626\n",
            "Epoch 00022: val_accuracy did not improve from 0.95962\n",
            "92/92 [==============================] - 3s 28ms/step - loss: 0.1080 - accuracy: 0.9623 - val_loss: 0.1372 - val_accuracy: 0.9481\n",
            "Epoch 23/30\n",
            "90/92 [============================>.] - ETA: 0s - loss: 0.2059 - accuracy: 0.9201\n",
            "Epoch 00023: val_accuracy did not improve from 0.95962\n",
            "92/92 [==============================] - 2s 26ms/step - loss: 0.2023 - accuracy: 0.9219 - val_loss: 0.1107 - val_accuracy: 0.9442\n",
            "Epoch 24/30\n",
            "91/92 [============================>.] - ETA: 0s - loss: 0.1351 - accuracy: 0.9475\n",
            "Epoch 00024: val_accuracy did not improve from 0.95962\n",
            "92/92 [==============================] - 3s 27ms/step - loss: 0.1344 - accuracy: 0.9481 - val_loss: 0.0768 - val_accuracy: 0.9577\n",
            "Epoch 25/30\n",
            "90/92 [============================>.] - ETA: 0s - loss: 0.1408 - accuracy: 0.9497\n",
            "Epoch 00025: val_accuracy did not improve from 0.95962\n",
            "92/92 [==============================] - 3s 28ms/step - loss: 0.1406 - accuracy: 0.9497 - val_loss: 0.1136 - val_accuracy: 0.9519\n",
            "Epoch 26/30\n",
            "92/92 [==============================] - ETA: 0s - loss: 0.1263 - accuracy: 0.9552\n",
            "Epoch 00026: val_accuracy improved from 0.95962 to 0.97692, saving model to model/\n",
            "92/92 [==============================] - 4s 43ms/step - loss: 0.1263 - accuracy: 0.9552 - val_loss: 0.0695 - val_accuracy: 0.9769\n",
            "Epoch 27/30\n",
            "91/92 [============================>.] - ETA: 0s - loss: 0.1630 - accuracy: 0.9464\n",
            "Epoch 00027: val_accuracy improved from 0.97692 to 0.97885, saving model to model/\n",
            "92/92 [==============================] - 5s 49ms/step - loss: 0.1624 - accuracy: 0.9464 - val_loss: 0.0701 - val_accuracy: 0.9788\n",
            "Epoch 28/30\n",
            "90/92 [============================>.] - ETA: 0s - loss: 0.1021 - accuracy: 0.9637\n",
            "Epoch 00028: val_accuracy did not improve from 0.97885\n",
            "92/92 [==============================] - 3s 28ms/step - loss: 0.1019 - accuracy: 0.9634 - val_loss: 0.0909 - val_accuracy: 0.9577\n",
            "Epoch 29/30\n",
            "90/92 [============================>.] - ETA: 0s - loss: 0.1036 - accuracy: 0.9626\n",
            "Epoch 00029: val_accuracy improved from 0.97885 to 0.98462, saving model to model/\n",
            "92/92 [==============================] - 4s 38ms/step - loss: 0.1034 - accuracy: 0.9623 - val_loss: 0.0547 - val_accuracy: 0.9846\n",
            "Epoch 30/30\n",
            "92/92 [==============================] - ETA: 0s - loss: 0.0881 - accuracy: 0.9699\n",
            "Epoch 00030: val_accuracy did not improve from 0.98462\n",
            "92/92 [==============================] - 5s 50ms/step - loss: 0.0881 - accuracy: 0.9699 - val_loss: 0.0737 - val_accuracy: 0.9846\n"
          ]
        }
      ]
    },
    {
      "cell_type": "markdown",
      "source": [
        "# Testing\n",
        "\n",
        "The test ouputs the fraction of the test samples which have been correctly classified"
      ],
      "metadata": {
        "id": "11fasVaeUxfO"
      }
    },
    {
      "cell_type": "code",
      "source": [
        "from keras.models import load_model\n",
        "import numpy as np\n",
        "\n",
        "# model = my_model\n",
        "model = load_model('model')\n",
        "\n",
        "# generate data for test set of images\n",
        "test_generator = data_generator.flow_from_directory(\n",
        "        '/content/test-set/',\n",
        "        target_size=(128, 256),\n",
        "        color_mode='grayscale',\n",
        "        batch_size=1,\n",
        "        class_mode='categorical',\n",
        "        shuffle=False)\n",
        "\n",
        "filenames=test_generator.filenames\n",
        "n_test = len(filenames)\n",
        "\n",
        "# obtain predicted activation values for the last dense layer\n",
        "test_generator.reset()\n",
        "pred=model.predict(test_generator, verbose=1, steps=n_test)\n",
        "\n",
        "# determine the maximum activation value for each sample\n",
        "predicted_class_indices=np.argmax(pred,axis=1)\n",
        "actual_labels=test_generator.labels\n",
        "class_labels = list(test_generator.class_indices.keys())\n",
        "\n",
        "# determine the test set accuracy\n",
        "match=[]\n",
        "for i in range(0, n_test):\n",
        "    match.append(predicted_class_indices[i]==actual_labels[i])\n",
        "\n",
        "acc = str(match.count(True) / n_test * 100)[0:4]\n",
        "print(f\"The model predicted accurately {acc}% of the samples\")"
      ],
      "metadata": {
        "colab": {
          "base_uri": "https://localhost:8080/"
        },
        "id": "rNnfdowlTKXR",
        "outputId": "b64ef19f-24fc-4961-b8de-6a9382ed51a2"
      },
      "execution_count": 26,
      "outputs": [
        {
          "output_type": "stream",
          "name": "stdout",
          "text": [
            "Found 267 images belonging to 4 classes.\n",
            "267/267 [==============================] - 1s 3ms/step\n",
            "The model predicted accurately 98.8% of the samples\n"
          ]
        }
      ]
    },
    {
      "cell_type": "markdown",
      "source": [
        "# Plotting the results"
      ],
      "metadata": {
        "id": "ywaYIN_3VFvm"
      }
    },
    {
      "cell_type": "code",
      "source": [
        "import matplotlib.pyplot as plt\n",
        "\n",
        "fig, axs = plt.subplots(2)\n",
        "title = \"Test Accuracy = \" + acc + \"%\"\n",
        "fig.suptitle(title)\n",
        "axs[0].plot(history.history['accuracy'], color='r')\n",
        "axs[0].plot(history.history['val_accuracy'], color='b')\n",
        "axs[1].plot(history.history['loss'], color='r')\n",
        "axs[1].plot(history.history['val_loss'], color='b')\n",
        "\n",
        "axs[0].set_ylim([.3, 1.1])\n",
        "axs[0].set_xticks(range(0, len(history.history['accuracy']), 5))\n",
        "axs[1].set_xticks(range(0, len(history.history['accuracy']), 5))\n",
        "\n",
        "axs[0].set_ylabel('Accuracy')\n",
        "axs[1].set_ylabel('Loss')\n",
        "\n",
        "axs[1].set_xlabel('Epoch')\n",
        "axs[0].legend(['Train', 'Validation'], loc='upper left')\n",
        "axs[1].legend(['Train', 'Validation'], loc='upper right')\n",
        "plt.savefig(\"plot.png\", dpi=300)"
      ],
      "metadata": {
        "colab": {
          "base_uri": "https://localhost:8080/",
          "height": 497
        },
        "id": "fvRrSrb82zy4",
        "outputId": "8f4039f5-bd0d-4fe0-ae0f-5941dc0179c4"
      },
      "execution_count": 27,
      "outputs": [
        {
          "output_type": "display_data",
          "data": {
            "text/plain": [
              "<Figure size 640x480 with 2 Axes>"
            ],
            "image/png": "[encoded data removed]"
          },
          "metadata": {}
        }
      ]
    },
    {
      "cell_type": "markdown",
      "source": [
        "# For the model with four classes, plot the confusion matrix"
      ],
      "metadata": {
        "id": "E83Bpfdz2taB"
      }
    },
    {
      "cell_type": "code",
      "source": [
        "from sklearn.metrics import confusion_matrix\n",
        "\n",
        "conf_matrix = confusion_matrix(y_true=actual_labels, y_pred=predicted_class_indices)\n",
        "\n",
        "fig, ax = plt.subplots(figsize=(4.5, 4.5))\n",
        "ax.matshow(conf_matrix, cmap=plt.cm.Blues, alpha=0.7)\n",
        "\n",
        "for i in range(conf_matrix.shape[0]):\n",
        "    for j in range(conf_matrix.shape[1]):\n",
        "        ax.text(x=j, y=i,s=conf_matrix[i, j], va='center', ha='center', size='large')\n",
        "\n",
        "plt.xlabel('Predicted labels', fontsize=14)\n",
        "plt.ylabel('Actual labels', fontsize=14)\n",
        "ax.xaxis.set_ticklabels(['', 'double', 'half', 'quad', 'quarter'])\n",
        "ax.yaxis.set_ticklabels(['', 'double', 'half', 'quad', 'quarter'])\n",
        "plt.title('Confusion Matrix', fontsize=14)\n",
        "plt.savefig(\"confusion_matrix.png\", dpi=300)\n",
        "plt.show()"
      ],
      "metadata": {
        "colab": {
          "base_uri": "https://localhost:8080/",
          "height": 535
        },
        "id": "hwvaAmyYcenM",
        "outputId": "3ead26b3-aa8d-4a96-9895-7e3af5c9345b"
      },
      "execution_count": 28,
      "outputs": [
        {
          "output_type": "stream",
          "name": "stderr",
          "text": [
            "<ipython-input-28-e38102b87fce>:14: UserWarning: FixedFormatter should only be used together with FixedLocator\n",
            "  ax.xaxis.set_ticklabels(['', 'double', 'half', 'quad', 'quarter'])\n",
            "<ipython-input-28-e38102b87fce>:15: UserWarning: FixedFormatter should only be used together with FixedLocator\n",
            "  ax.yaxis.set_ticklabels(['', 'double', 'half', 'quad', 'quarter'])\n"
          ]
        },
        {
          "output_type": "display_data",
          "data": {
            "text/plain": [
              "<Figure size 450x450 with 1 Axes>"
            ],
            "image/png": "[encoded data removed]"
          },
          "metadata": {}
        }
      ]
    },
    {
      "cell_type": "markdown",
      "source": [
        "# Save the model as an archive for downloading"
      ],
      "metadata": {
        "id": "cOFqkKkG6Da0"
      }
    },
    {
      "cell_type": "code",
      "source": [
        "!rm model/plot.png\n",
        "!rm model/confusion_matrix.png\n",
        "!mv plot.png model/\n",
        "!mv confusion_matrix.png model/\n",
        "!zip -r ./folder.zip ./model/"
      ],
      "metadata": {
        "colab": {
          "base_uri": "https://localhost:8080/"
        },
        "id": "i1H4pt-2elNb",
        "outputId": "bc08c2bc-a78a-426b-dfe5-6ece12a3dbe4"
      },
      "execution_count": 29,
      "outputs": [
        {
          "output_type": "stream",
          "name": "stdout",
          "text": [
            "rm: cannot remove 'model/confusion_matrix.png': No such file or directory\n",
            "  adding: model/ (stored 0%)\n",
            "  adding: model/confusion_matrix.png (deflated 20%)\n",
            "  adding: model/fingerprint.pb (stored 0%)\n",
            "  adding: model/variables/ (stored 0%)\n",
            "  adding: model/variables/variables.data-00000-of-00001 (deflated 10%)\n",
            "  adding: model/variables/variables.index (deflated 63%)\n",
            "  adding: model/assets/ (stored 0%)\n",
            "  adding: model/saved_model.pb (deflated 87%)\n",
            "  adding: model/plot.png (deflated 14%)\n",
            "  adding: model/keras_metadata.pb (deflated 92%)\n"
          ]
        }
      ]
    },
    {
      "cell_type": "code",
      "source": [
        "!rm -r /content/test-set/\n",
        "!rm -r /content/training-set/\n",
        "!rm -r /content/validation-set/"
      ],
      "metadata": {
        "id": "yF4EBLkFC-9w"
      },
      "execution_count": 19,
      "outputs": []
    },
    {
      "cell_type": "code",
      "source": [],
      "metadata": {
        "id": "ktCM5GhFY_ut"
      },
      "execution_count": null,
      "outputs": []
    }
  ]
}